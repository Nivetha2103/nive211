{
 "cells": [
  {
   "cell_type": "code",
   "execution_count": 5,
   "id": "eb6f6594-8319-4346-97b0-25cb022c6f3a",
   "metadata": {},
   "outputs": [
    {
     "name": "stdout",
     "output_type": "stream",
     "text": [
      "First variable is 10 & second variable is 2\n",
      "Addition: 10 + 2 = 12\n",
      "Subtraction: 10 - 2 = 8\n",
      "Multiplication: 10 * 2 = 20\n",
      "Division: 10 / 2 = 5.0\n"
     ]
    }
   ],
   "source": [
    "#assignment 7\n",
    "#Q1\n",
    "a = 10\n",
    "b = 2\n",
    "print (\"First variable is\", a, \"& second variable is\" ,b,)\n",
    "c = a+b\n",
    "d = a-b\n",
    "e = a*b\n",
    "f = a/b\n",
    "print(\"Addition:\",a,\"+\",b,\"=\",c,)\n",
    "print(\"Subtraction:\",a,\"-\",b,\"=\",d,)\n",
    "print(\"Multiplication:\",a,\"*\",b,\"=\",e,)\n",
    "print(\"Division:\",a,\"/\",b,\"=\",f,)\n"
   ]
  },
  {
   "cell_type": "code",
   "execution_count": 2,
   "id": "1f7c6332-506e-4ed7-836e-773ea8f4a261",
   "metadata": {},
   "outputs": [
    {
     "name": "stdout",
     "output_type": "stream",
     "text": [
      "15\n",
      "10 is present in list\n"
     ]
    }
   ],
   "source": [
    "#assignment 7\n",
    "#Q5\n",
    "listint = [1,2,3,4,5,6,7,8,9,10,11,12,13,14,15]\n",
    "print(len(listint))\n",
    "a = 10\n",
    "if a in listint:\n",
    "    print(\"10 is present in list\")\n",
    "else:\n",
    "    print(\"10 is not present\")\n"
   ]
  },
  {
   "cell_type": "code",
   "execution_count": null,
   "id": "15b54bdd-3533-4b02-895b-c42008027023",
   "metadata": {},
   "outputs": [],
   "source": []
  }
 ],
 "metadata": {
  "kernelspec": {
   "display_name": "Python 3 (ipykernel)",
   "language": "python",
   "name": "python3"
  },
  "language_info": {
   "codemirror_mode": {
    "name": "ipython",
    "version": 3
   },
   "file_extension": ".py",
   "mimetype": "text/x-python",
   "name": "python",
   "nbconvert_exporter": "python",
   "pygments_lexer": "ipython3",
   "version": "3.10.6"
  }
 },
 "nbformat": 4,
 "nbformat_minor": 5
}
